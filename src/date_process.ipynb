{
 "cells": [
  {
   "cell_type": "code",
   "execution_count": 61,
   "metadata": {},
   "outputs": [],
   "source": [
    "import pandas as pd\n",
    "import numpy as np\n",
    "from matplotlib import pyplot as plt"
   ]
  },
  {
   "cell_type": "code",
   "execution_count": 243,
   "metadata": {},
   "outputs": [
    {
     "name": "stdout",
     "output_type": "stream",
     "text": [
      "18\n",
      "(27075, 18)\n",
      "27075\n"
     ]
    }
   ],
   "source": [
    "df = pd.read_csv(\"data/steam.csv\")\n",
    "requirements = pd.read_csv(\"data/steam.csv\")\n",
    "print(len(df.columns))\n",
    "print(df.shape)\n",
    "print(len(df['appid'].unique()))"
   ]
  },
  {
   "cell_type": "code",
   "execution_count": 264,
   "metadata": {},
   "outputs": [
    {
     "name": "stdout",
     "output_type": "stream",
     "text": [
      "english\n",
      "platforms\n",
      "required_age\n",
      "achievements\n",
      "positive_ratings\n",
      "negative_ratings\n",
      "average_playtime\n",
      "median_playtime\n",
      "owners\n",
      "price\n"
     ]
    },
    {
     "data": {
      "text/plain": [
       "<Figure size 432x288 with 0 Axes>"
      ]
     },
     "metadata": {},
     "output_type": "display_data"
    }
   ],
   "source": [
    "categorical = ['english','required_age','platforms','owners']\n",
    "numerical = ['positive_ratings','negative_ratings','price','achievements','average_playtime','median_playtime']\n",
    "for i in df.columns:\n",
    "    if i in categorical:\n",
    "        print(i)\n",
    "        pd.value_counts(df[i]).plot(kind='bar')\n",
    "        plt.ylabel('count')\n",
    "        plt.xlabel(i)\n",
    "#         plt.show()\n",
    "        plt.savefig('figures/{} histogram.png'.format(i),bbox_inches = 'tight')\n",
    "        plt.clf()\n",
    "    elif i in numerical:\n",
    "        print(i)\n",
    "        df[i].plot.hist(bins=int(np.sqrt(df.shape[0])))\n",
    "        plt.ylabel('count')\n",
    "        plt.xlabel(i)\n",
    "        plt.savefig('figures/{} histogram.png'.format(i),bbox_inches = 'tight')\n",
    "        plt.clf()\n",
    "#         plt.show()"
   ]
  },
  {
   "cell_type": "code",
   "execution_count": 265,
   "metadata": {},
   "outputs": [
    {
     "data": {
      "text/plain": [
       "<Figure size 432x288 with 0 Axes>"
      ]
     },
     "metadata": {},
     "output_type": "display_data"
    }
   ],
   "source": [
    "categories = df['required_age'].unique()\n",
    "\n",
    "for c in categories:\n",
    "    ax = plt.hist(df[df['required_age']==c]['owners'],alpha=0.5,label=c,density=True)\n",
    "plt.legend()\n",
    "plt.ylabel('counts')\n",
    "plt.xlabel('owners')\n",
    "plt.xticks(rotation=90)\n",
    "txt = '''Fig.5 The x axis is categorical variable \"owners\" and y axis is the count.\n",
    "Legend is the categorical variable required_age for each game.\n",
    "From the figure we can see that >18 group takes majority in game that has more owners.'''\n",
    "plt.figtext(0.5, -0.5, txt, wrap=True, horizontalalignment='center', fontsize=12)\n",
    "plt.savefig('figures/owners & required_age.png', bbox_inches = 'tight')\n",
    "plt.clf()"
   ]
  },
  {
   "cell_type": "code",
   "execution_count": 266,
   "metadata": {},
   "outputs": [
    {
     "data": {
      "text/plain": [
       "<Figure size 864x576 with 0 Axes>"
      ]
     },
     "metadata": {},
     "output_type": "display_data"
    }
   ],
   "source": [
    "mask = df.owners.isin(['10000000-20000000', '20000000-50000000', '50000000-100000000', '100000000-200000000'])\n",
    "df.loc[mask, 'owners'] = '10mil and more'\n",
    "df.loc[df.owners == '5000000-10000000', 'owners'] = '5mil-10mil'\n",
    "df.loc[df.owners == '2000000-5000000', 'owners'] = '2mil-5mil'\n",
    "df.loc[df.owners == '1000000-2000000', 'owners'] = '1mil-2mil'\n",
    "df.loc[df.owners == '500000-1000000', 'owners'] = '500k-1mil'\n",
    "df.loc[df.owners == '200000-500000', 'owners'] = '200k-500k'\n",
    "df.loc[df.owners == '100000-200000', 'owners'] = '100k-200k'\n",
    "df.loc[df.owners == '50000-100000', 'owners'] = '50k-100k'\n",
    "df.loc[df.owners == '20000-50000', 'owners'] = '20k-50k'\n",
    "df.loc[df.owners == '0-20000', 'owners'] = '20k or less'\n",
    "plt.figure(figsize=(12,8))\n",
    "ax = df['owners'].hist()\n",
    "ax.set_yscale('log')\n",
    "plt.xlabel('owners range')\n",
    "plt.ylabel('number of data scaled by log')\n",
    "txt = '''Fig.1 X is the target categorical variable \"owners\" and y is the count of each category scaled by log.\n",
    "From the plot, we can see that the number of games decreases when the number of owners decreases'''\n",
    "plt.figtext(0.5, -0.005, txt, wrap=True, horizontalalignment='center', fontsize=12)\n",
    "plt.savefig(\"figures/owners.png\", bbox_inches = 'tight')\n",
    "plt.clf()"
   ]
  },
  {
   "cell_type": "code",
   "execution_count": 267,
   "metadata": {},
   "outputs": [
    {
     "data": {
      "text/plain": [
       "<Figure size 432x288 with 0 Axes>"
      ]
     },
     "metadata": {},
     "output_type": "display_data"
    }
   ],
   "source": [
    "ax = df[['price','owners']].boxplot(by='owners')\n",
    "plt.ylabel('price')\n",
    "plt.xlabel('owners')\n",
    "ax.set_yscale('log')\n",
    "plt.xticks(rotation=90)\n",
    "plt.title('')\n",
    "txt = '''Fig.2 X is the target categorical variable \"owners\" and y is the price of the game scaled by log.\n",
    "From the plot, we can see that the price range is larger for game that has more owners'''\n",
    "plt.figtext(0.5, -0.3, txt, wrap=True, horizontalalignment='center', fontsize=12)\n",
    "plt.savefig('figures/price & owners.png', bbox_inches = 'tight')\n",
    "plt.clf()"
   ]
  },
  {
   "cell_type": "code",
   "execution_count": 71,
   "metadata": {},
   "outputs": [
    {
     "name": "stdout",
     "output_type": "stream",
     "text": [
      "appid 27075\n",
      "name 27033\n",
      "release_date 2619\n",
      "english 2\n",
      "developer 17113\n",
      "publisher 14354\n",
      "platforms 7\n",
      "required_age 6\n",
      "categories 3333\n",
      "genres 1552\n",
      "steamspy_tags 6423\n",
      "achievements 410\n",
      "positive_ratings 2800\n",
      "negative_ratings 1492\n",
      "average_playtime 1345\n",
      "median_playtime 1312\n",
      "owners 10\n",
      "price 282\n"
     ]
    }
   ],
   "source": [
    "for i in df.columns:\n",
    "    print(i, len(df[i].value_counts()))"
   ]
  },
  {
   "cell_type": "code",
   "execution_count": 270,
   "metadata": {},
   "outputs": [
    {
     "data": {
      "text/plain": [
       "<Figure size 432x288 with 0 Axes>"
      ]
     },
     "metadata": {},
     "output_type": "display_data"
    }
   ],
   "source": [
    "count = df['genres'].value_counts()\n",
    "x = []\n",
    "y = []\n",
    "tot = sum(count)\n",
    "for i in count.index:\n",
    "    if count[i] >= 100:\n",
    "        x.append(i)\n",
    "        y.append(count[i]/tot)\n",
    "plt.bar(x, y)\n",
    "plt.xticks(rotation=90)\n",
    "plt.xlabel('genres')\n",
    "plt.ylabel('percentage')\n",
    "plt.title('Majority Genres (>100 data points)')\n",
    "txt = '''Fig.3 X is the target categorical variable \"genres\" and y is the percentage of each category.\n",
    "From the plot, we can see that \"Action\" and \"Indie\" style game is the majority'''\n",
    "plt.figtext(0.5, -0.8, txt, wrap=True, horizontalalignment='center', fontsize=12)\n",
    "plt.savefig('figures/Genres.png', bbox_inches = 'tight')\n",
    "plt.clf()"
   ]
  },
  {
   "cell_type": "code",
   "execution_count": 271,
   "metadata": {},
   "outputs": [
    {
     "data": {
      "text/plain": [
       "<Figure size 792x792 with 0 Axes>"
      ]
     },
     "metadata": {},
     "output_type": "display_data"
    }
   ],
   "source": [
    "pd.plotting.scatter_matrix(df[['required_age','average_playtime','positive_ratings','negative_ratings','achievements']], figsize=(11, 11), c=pd.get_dummies(df['owners']).iloc[:,1],marker='o',hist_kwds={'bins': 50}, \n",
    "                           s=30, alpha=.1)\n",
    "txt = \"\"\"Fig.4 Scatter Matrix of 'required_age','average_playtime','positive_ratings','negative_ratings','achievements'\"\"\"\n",
    "plt.figtext(0.5, -0.01, txt, wrap=True, horizontalalignment='center', fontsize=12)\n",
    "plt.savefig(\"figures/scatter matrix.png\", bbox_inches='tight')\n",
    "plt.clf()"
   ]
  },
  {
   "cell_type": "code",
   "execution_count": 172,
   "metadata": {},
   "outputs": [
    {
     "name": "stdout",
     "output_type": "stream",
     "text": [
      "0    9.730548e+08\n",
      "1    9.229428e+08\n",
      "2    1.051762e+09\n",
      "3    9.913680e+08\n",
      "4    9.414324e+08\n",
      "Name: release_date, dtype: float64\n"
     ]
    }
   ],
   "source": [
    "import time\n",
    "import datetime\n",
    "# change date to timestamps\n",
    "df = pd.read_csv(\"data/steam.csv\")\n",
    "df['release_date'] = [time.mktime(datetime.datetime.strptime(s, \"%Y-%m-%d\").timetuple()) for s in df['release_date']]\n",
    "print(df['release_date'].head())"
   ]
  },
  {
   "cell_type": "code",
   "execution_count": 213,
   "metadata": {},
   "outputs": [
    {
     "name": "stdout",
     "output_type": "stream",
     "text": [
      "0-20000            18596\n",
      "20000-50000         3059\n",
      "50000-100000        1695\n",
      "100000-200000       1386\n",
      "200000-500000       1272\n",
      "500000-1000000       513\n",
      "1000000-2000000      288\n",
      "2000000-5000000      193\n",
      ">5000000              73\n",
      "Name: owners, dtype: int64\n"
     ]
    }
   ],
   "source": [
    "df.loc[df.owners == '5000000-10000000', 'owners'] = '>5000000'\n",
    "df.loc[df.owners == '10000000-20000000', 'owners'] = '>5000000'\n",
    "df.loc[df.owners == '20000000-50000000', 'owners'] = '>5000000'\n",
    "df.loc[df.owners == '50000000-100000000', 'owners'] = '>5000000'\n",
    "df.loc[df.owners == '100000000-200000000', 'owners'] = '>5000000'\n",
    "print(df['owners'].value_counts())"
   ]
  },
  {
   "cell_type": "code",
   "execution_count": 209,
   "metadata": {},
   "outputs": [
    {
     "name": "stdout",
     "output_type": "stream",
     "text": [
      "other                         13266\n",
      "Choice of Games                  94\n",
      "KOEI TECMO GAMES CO., LTD.       72\n",
      "Ripknot Systems                  62\n",
      "Laush Dmitriy Sergeevich         51\n",
      "                              ...  \n",
      "Anarkis Gaming                    2\n",
      "Alex Hanson-White                 2\n",
      "Anton Shatalov                    2\n",
      "PlayFusion                        2\n",
      "Weekend Soft                      2\n",
      "Name: developer, Length: 3848, dtype: int64\n",
      "other               11047\n",
      "Big Fish Games        212\n",
      "Strategy First        136\n",
      "Ubisoft               111\n",
      "THQ Nordic             98\n",
      "                    ...  \n",
      "Joni Bäckström          2\n",
      "Lazy Monday Ltd         2\n",
      "OCP                     2\n",
      "H-GAME                  2\n",
      "Flying Fire, LLC        2\n",
      "Name: publisher, Length: 3308, dtype: int64\n",
      "windows              18398\n",
      "windows;mac;linux     4623\n",
      "windows;mac           3439\n",
      "windows;linux          610\n",
      "mac                      3\n",
      "other                    2\n",
      "Name: platforms, dtype: int64\n",
      "other                               4264\n",
      "Action;Indie;Casual                  845\n",
      "Action;Adventure;Indie               714\n",
      "Early Access;Action;Indie            507\n",
      "Adventure;Indie;Casual               442\n",
      "                                    ... \n",
      "Indie;Survival;Adventure               2\n",
      "Action;Adventure;Pixel Graphics        2\n",
      "Cats;Indie;Platformer                  2\n",
      "Horror;First-Person;Singleplayer       2\n",
      "Action;Indie;PvP                       2\n",
      "Name: steamspy_tags, Length: 2160, dtype: int64\n",
      "0     26479\n",
      "18      308\n",
      "16      192\n",
      "12       73\n",
      "7        12\n",
      "3        11\n",
      "Name: required_age, dtype: int64\n",
      "Single-player                                                                                                                                                                        6110\n",
      "Single-player;Steam Achievements                                                                                                                                                     2334\n",
      "other                                                                                                                                                                                2143\n",
      "Single-player;Steam Achievements;Steam Trading Cards                                                                                                                                  848\n",
      "Single-player;Partial Controller Support                                                                                                                                              804\n",
      "                                                                                                                                                                                     ... \n",
      "MMO;Steam Achievements;In-App Purchases                                                                                                                                                 2\n",
      "Single-player;Multi-player;Local Multi-Player;Co-op;Local Co-op;Shared/Split Screen;Steam Achievements;Full controller support;Steam Trading Cards;Steam Cloud;Steam Leaderboards       2\n",
      "Multi-player;Local Multi-Player;Shared/Split Screen;Cross-Platform Multiplayer;Partial Controller Support                                                                               2\n",
      "Single-player;Multi-player;Online Multi-Player;Steam Achievements;Partial Controller Support;Stats;Steam Leaderboards                                                                   2\n",
      "Multi-player;Local Multi-Player;Full controller support                                                                                                                                 2\n",
      "Name: categories, Length: 1191, dtype: int64\n",
      "Action;Indie                                             1852\n",
      "Casual;Indie                                             1482\n",
      "Action;Adventure;Indie                                   1229\n",
      "Adventure;Indie                                          1170\n",
      "Action;Casual;Indie                                      1004\n",
      "                                                         ... \n",
      "Violent;Gore;Action;Indie;RPG                               2\n",
      "Sexual Content;Action                                       2\n",
      "Casual;Free to Play;Simulation;Early Access                 2\n",
      "Casual;Indie;Massively Multiplayer;RPG;Early Access         2\n",
      "Adventure;Casual;Indie;RPG;Simulation;Sports;Strategy       2\n",
      "Name: genres, Length: 799, dtype: int64\n",
      "1    26564\n",
      "0      511\n",
      "Name: english, dtype: int64\n"
     ]
    }
   ],
   "source": [
    "reeval = ['developer', 'publisher', 'platforms', 'steamspy_tags','required_age','categories','genres','english']\n",
    "for i in reeval:\n",
    "    vc = df[i].value_counts()\n",
    "    ones = [c for c in vc.index if vc[c]==1]\n",
    "    for j in range(0, len(df[i])):\n",
    "        if df.loc[j,i] in ones:\n",
    "            df.loc[j, i] = 'other'\n",
    "    print(df[i].value_counts())"
   ]
  },
  {
   "cell_type": "code",
   "execution_count": 235,
   "metadata": {},
   "outputs": [
    {
     "name": "stdout",
     "output_type": "stream",
     "text": [
      "==================test 1 ======================\n",
      "test balance: 0-20000            0.686939\n",
      "20000-50000        0.112662\n",
      "50000-100000       0.062812\n",
      "100000-200000      0.050847\n",
      "200000-500000      0.046859\n",
      "500000-1000000     0.018943\n",
      "1000000-2000000    0.010967\n",
      "2000000-5000000    0.006979\n",
      ">5000000           0.002991\n",
      "Name: owners, dtype: float64\n",
      "(26072, 15) (26072, 1)\n",
      "test set: (1003, 15) (1003, 1)\n",
      "validation: [    0     1     4 ... 26038 26056 26063]\n",
      "training: [    2     3     5 ... 26069 26070 26071]\n",
      "   training set: (20857, 10988) (20857, 1)\n",
      "   validation set: (5215, 10988) (5215, 1)\n",
      "train balance:\n",
      "0-20000            0.686868\n",
      "20000-50000        0.112960\n",
      "50000-100000       0.062617\n",
      "100000-200000      0.051206\n",
      "200000-500000      0.046987\n",
      "500000-1000000     0.018938\n",
      "1000000-2000000    0.010596\n",
      "2000000-5000000    0.007144\n",
      ">5000000           0.002685\n",
      "Name: owners, dtype: float64\n",
      "val balance:\n",
      "0-20000            0.686673\n",
      "20000-50000        0.113135\n",
      "50000-100000       0.062512\n",
      "100000-200000      0.051198\n",
      "200000-500000      0.046980\n",
      "500000-1000000     0.018984\n",
      "1000000-2000000    0.010738\n",
      "2000000-5000000    0.007095\n",
      ">5000000           0.002685\n",
      "Name: owners, dtype: float64\n",
      "validation: [    9    10    14 ... 26061 26062 26067]\n",
      "training: [    0     1     2 ... 26069 26070 26071]\n",
      "   training set: (20857, 11006) (20857, 1)\n",
      "   validation set: (5215, 11006) (5215, 1)\n",
      "train balance:\n",
      "0-20000            0.686820\n",
      "20000-50000        0.113008\n",
      "50000-100000       0.062617\n",
      "100000-200000      0.051206\n",
      "200000-500000      0.046987\n",
      "500000-1000000     0.018938\n",
      "1000000-2000000    0.010644\n",
      "2000000-5000000    0.007096\n",
      ">5000000           0.002685\n",
      "Name: owners, dtype: float64\n",
      "val balance:\n",
      "0-20000            0.686865\n",
      "20000-50000        0.112943\n",
      "50000-100000       0.062512\n",
      "100000-200000      0.051198\n",
      "200000-500000      0.046980\n",
      "500000-1000000     0.018984\n",
      "1000000-2000000    0.010547\n",
      "2000000-5000000    0.007287\n",
      ">5000000           0.002685\n",
      "Name: owners, dtype: float64\n",
      "validation: [    3     5     8 ... 26060 26065 26070]\n",
      "training: [    0     1     2 ... 26068 26069 26071]\n",
      "   training set: (20858, 11025) (20858, 1)\n",
      "   validation set: (5214, 11025) (5214, 1)\n",
      "train balance:\n",
      "0-20000            0.686787\n",
      "20000-50000        0.113002\n",
      "50000-100000       0.062614\n",
      "100000-200000      0.051203\n",
      "200000-500000      0.046984\n",
      "500000-1000000     0.018938\n",
      "1000000-2000000    0.010643\n",
      "2000000-5000000    0.007144\n",
      ">5000000           0.002685\n",
      "Name: owners, dtype: float64\n",
      "val balance:\n",
      "0-20000            0.686997\n",
      "20000-50000        0.112965\n",
      "50000-100000       0.062524\n",
      "100000-200000      0.051208\n",
      "200000-500000      0.046989\n",
      "500000-1000000     0.018987\n",
      "1000000-2000000    0.010549\n",
      "2000000-5000000    0.007096\n",
      ">5000000           0.002685\n",
      "Name: owners, dtype: float64\n",
      "validation: [   18    28    31 ... 26066 26069 26071]\n",
      "training: [    0     1     2 ... 26067 26068 26070]\n",
      "   training set: (20858, 11041) (20858, 1)\n",
      "   validation set: (5214, 11041) (5214, 1)\n",
      "train balance:\n",
      "0-20000            0.686835\n",
      "20000-50000        0.113002\n",
      "50000-100000       0.062566\n",
      "100000-200000      0.051203\n",
      "200000-500000      0.046984\n",
      "500000-1000000     0.018938\n",
      "1000000-2000000    0.010643\n",
      "2000000-5000000    0.007144\n",
      ">5000000           0.002685\n",
      "Name: owners, dtype: float64\n",
      "val balance:\n",
      "0-20000            0.686805\n",
      "20000-50000        0.112965\n",
      "50000-100000       0.062716\n",
      "100000-200000      0.051208\n",
      "200000-500000      0.046989\n",
      "500000-1000000     0.018987\n",
      "1000000-2000000    0.010549\n",
      "2000000-5000000    0.007096\n",
      ">5000000           0.002685\n",
      "Name: owners, dtype: float64\n",
      "validation: [    2     7    16 ... 26052 26059 26068]\n",
      "training: [    0     1     3 ... 26069 26070 26071]\n",
      "   training set: (20858, 11035) (20858, 1)\n",
      "   validation set: (5214, 11035) (5214, 1)\n",
      "train balance:\n",
      "0-20000            0.686835\n",
      "20000-50000        0.113002\n",
      "50000-100000       0.062566\n",
      "100000-200000      0.051203\n",
      "200000-500000      0.046984\n",
      "500000-1000000     0.018986\n",
      "1000000-2000000    0.010595\n",
      "2000000-5000000    0.007144\n",
      ">5000000           0.002685\n",
      "Name: owners, dtype: float64\n",
      "val balance:\n",
      "0-20000            0.686805\n",
      "20000-50000        0.112965\n",
      "50000-100000       0.062716\n",
      "100000-200000      0.051208\n",
      "200000-500000      0.046989\n",
      "500000-1000000     0.018796\n",
      "1000000-2000000    0.010740\n",
      "2000000-5000000    0.007096\n",
      ">5000000           0.002685\n",
      "Name: owners, dtype: float64\n"
     ]
    }
   ],
   "source": [
    "#Prerpocess\n",
    "from sklearn.model_selection import KFold, StratifiedKFold\n",
    "from sklearn.model_selection import train_test_split \n",
    "from sklearn.compose import ColumnTransformer\n",
    "from sklearn.pipeline import Pipeline\n",
    "from sklearn.preprocessing import OneHotEncoder, MinMaxScaler, StandardScaler, OrdinalEncoder\n",
    "\n",
    "X = df.loc[:,df.columns!='owners'].drop(columns=['appid','name'])\n",
    "y = df.loc[:,df.columns=='owners']\n",
    "std_ftrs = ['price','positive_ratings','negative_ratings','average_playtime','median_playtime']\n",
    "ordinal_owners = [[i for i in df['owners'].value_counts().index]]\n",
    "onehot_ftrs = ['developer', 'publisher', 'platforms', 'steamspy_tags','required_age','categories','genres','english']\n",
    "preprocessor = ColumnTransformer(transformers=[('onehot', OneHotEncoder(sparse=False,handle_unknown='ignore'), onehot_ftrs),\n",
    "                                               ('std', StandardScaler(), std_ftrs)])\n",
    "clf = Pipeline(steps=[('preprocessor', preprocessor)])\n",
    "target_transform = ColumnTransformer(transformers=[('ord', OrdinalEncoder(categories = ordinal_owners), ['owners'])])\n",
    "print_time = 1\n",
    "for i in range(1,2):\n",
    "    random_state = 42 * i\n",
    "    print(\"==================test {} ======================\".format(i))\n",
    "    X_other, X_test, y_other, y_test = train_test_split(X,y,test_size = 1/27,stratify=y, random_state=random_state)\n",
    "    if print_time <= 1:\n",
    "        print('test balance:',y_test['owners'].value_counts(normalize=True))\n",
    "\n",
    "        print(X_other.shape,y_other.shape)\n",
    "        print('test set:',X_test.shape,y_test.shape)\n",
    "\n",
    "    kf = StratifiedKFold(n_splits=5,shuffle=True,random_state=random_state)\n",
    "    for train_index, val_index in kf.split(X_other,y_other):\n",
    "        X_train = X_other.iloc[train_index]\n",
    "        y_train = y_other.iloc[train_index]\n",
    "        X_val = X_other.iloc[val_index]\n",
    "        y_val = y_other.iloc[val_index]\n",
    "        X_train_prep = clf.fit_transform(X_train)\n",
    "        X_val_prep = clf.transform(X_val)\n",
    "        X_test_prep = clf.transform(X_test)\n",
    "        y_train_prep = target_transform.fit_transform(y_train)\n",
    "        y_val_prep = target_transform.transform(y_val)\n",
    "        y_test_prep = target_transform.transform(y_test)\n",
    "        if print_time <= 1:\n",
    "            print(\"validation:\", val_index)\n",
    "            print(\"training:\", train_index)\n",
    "            print('   training set:',X_train_prep.shape, y_train_prep.shape) \n",
    "            print('   validation set:',X_val_prep.shape, y_val_prep.shape)\n",
    "            print('train balance:')\n",
    "            print(y_train['owners'].value_counts(normalize=True))\n",
    "            print('val balance:')\n",
    "            print(y_val['owners'].value_counts(normalize=True))\n",
    "#             print(X_train.head())\n",
    "    print_time += 1"
   ]
  },
  {
   "cell_type": "code",
   "execution_count": null,
   "metadata": {},
   "outputs": [],
   "source": []
  }
 ],
 "metadata": {
  "kernelspec": {
   "display_name": "Python 3",
   "language": "python",
   "name": "python3"
  },
  "language_info": {
   "codemirror_mode": {
    "name": "ipython",
    "version": 3
   },
   "file_extension": ".py",
   "mimetype": "text/x-python",
   "name": "python",
   "nbconvert_exporter": "python",
   "pygments_lexer": "ipython3",
   "version": "3.7.8"
  }
 },
 "nbformat": 4,
 "nbformat_minor": 4
}
